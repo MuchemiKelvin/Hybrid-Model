{
 "cells": [
  {
   "cell_type": "code",
   "execution_count": 19,
   "id": "fb004596",
   "metadata": {},
   "outputs": [],
   "source": [
    "# Import the required libraries\n",
    "\n",
    "import pandas as pd\n",
    "import numpy as np\n",
    "\n",
    "# Build Classification Models\n",
    "from sklearn.metrics import accuracy_score\n",
    "from sklearn.metrics import f1_score\n",
    "\n",
    "from sklearn.ensemble import RandomForestClassifier\n",
    "from sklearn.linear_model import LogisticRegression\n",
    "from sklearn.naive_bayes import GaussianNB\n",
    "from sklearn.ensemble import VotingClassifier\n",
    "from sklearn.model_selection import train_test_split\n"
   ]
  },
  {
   "cell_type": "code",
   "execution_count": 14,
   "id": "9b772d31",
   "metadata": {},
   "outputs": [],
   "source": [
    "# Load the data\n",
    "data = pd.read_csv('^spx_d.csv')\n"
   ]
  },
  {
   "cell_type": "code",
   "execution_count": 16,
   "id": "e7f1f4be",
   "metadata": {},
   "outputs": [],
   "source": [
    "# Split the data into training and testing sets\n",
    "train, test = train_test_split(data, test_size=0.2, random_state=42)\n",
    "\n"
   ]
  },
  {
   "cell_type": "code",
   "execution_count": 17,
   "id": "db0d042e",
   "metadata": {},
   "outputs": [
    {
     "data": {
      "text/plain": [
       "((6701, 8), (1676, 8))"
      ]
     },
     "execution_count": 17,
     "metadata": {},
     "output_type": "execute_result"
    }
   ],
   "source": [
    "# Show the structure of train and test variables\n",
    "train.shape, test.shape"
   ]
  },
  {
   "cell_type": "code",
   "execution_count": 27,
   "id": "1e778706",
   "metadata": {},
   "outputs": [
    {
     "name": "stdout",
     "output_type": "stream",
     "text": [
      "Model performance for Training set\n",
      "Training set accuracy: 0.7034770929711983\n",
      "Training set precision: 0.7204086718165961\n",
      "Training set F1-score: 0.7016173293316642\n",
      "\n",
      "-------------------------------------------------------------\n",
      "Model performance for Test set\n",
      "Test set accuracy: 0.5274463007159904\n",
      "Test set precision: 0.584720861900098\n",
      "Test set F1-score: 0.5244223762094629\n"
     ]
    }
   ],
   "source": [
    "# Import and train model\n",
    "from sklearn.model_selection import train_test_split\n",
    "from sklearn.neighbors import KNeighborsClassifier\n",
    "from sklearn.metrics import accuracy_score, precision_score, f1_score\n",
    "\n",
    "# Define model\n",
    "df = pd.read_csv('^spx_d.csv')\n",
    "knn = KNeighborsClassifier(n_neighbors=5)\n",
    "predictors = [\"Open\", \"High\", \"Low\", \"Close\"]\n",
    "knn.fit(train[predictors], train[\"Target\"])\n",
    "\n",
    "# Make Predictions\n",
    "train_preds = knn.predict(train[predictors])\n",
    "test_preds = knn.predict(test[predictors])\n",
    "\n",
    "# Training set performance\n",
    "knn_train_accuracy = accuracy_score(train[\"Target\"], train_preds)\n",
    "knn_train_precision = precision_score(train[\"Target\"], train_preds)\n",
    "knn_train_f1 = f1_score(train[\"Target\"], train_preds, average='weighted')\n",
    "\n",
    "# Test set Performance\n",
    "knn_test_accuracy = accuracy_score(test[\"Target\"], test_preds)\n",
    "knn_test_precision = precision_score(test[\"Target\"], test_preds)\n",
    "knn_test_f1 = f1_score(test[\"Target\"], test_preds, average='weighted')\n",
    "\n",
    "# Print the results\n",
    "print(\"Model performance for Training set\")\n",
    "print(\"Training set accuracy:\", knn_train_accuracy)\n",
    "print(\"Training set precision:\", knn_train_precision)\n",
    "print(\"Training set F1-score:\", knn_train_f1)\n",
    "print(\"\")\n",
    "print(\"-------------------------------------------------------------\")\n",
    "print(\"Model performance for Test set\")\n",
    "print(\"Test set accuracy:\", knn_test_accuracy)\n",
    "print(\"Test set precision:\", knn_test_precision)\n",
    "print(\"Test set F1-score:\", knn_test_f1)\n"
   ]
  },
  {
   "cell_type": "code",
   "execution_count": null,
   "id": "e9a2615d",
   "metadata": {},
   "outputs": [],
   "source": [
    "# Define the classifiers\n",
    "clf1 = RandomForestClassifier(n_estimators=100, min_samples_split=100, random_state=1)\n",
    "clf2 = LogisticRegression(random_state=1)\n",
    "clf3 = GaussianNB()\n",
    "\n",
    "# Create the voting classifier\n",
    "voting_clf = VotingClassifier(estimators=[('rf', clf1), ('lr', clf2), ('gnb', clf3)], voting='hard')\n",
    "\n",
    "# Fit the voting classifier to the training data\n",
    "predictors = [\"Open\", \"High\",\"Low\",\"Close\"]\n",
    "voting_clf.fit(train[predictors], train[\"Target\"])\n",
    "\n",
    "# Evaluate the performance of the hybrid model on the testing data\n",
    "score = voting_clf.score(test[predictors], test[\"Target\"])\n",
    "print('Accuracy:', score)"
   ]
  }
 ],
 "metadata": {
  "kernelspec": {
   "display_name": "Python 3 (ipykernel)",
   "language": "python",
   "name": "python3"
  },
  "language_info": {
   "codemirror_mode": {
    "name": "ipython",
    "version": 3
   },
   "file_extension": ".py",
   "mimetype": "text/x-python",
   "name": "python",
   "nbconvert_exporter": "python",
   "pygments_lexer": "ipython3",
   "version": "3.8.10"
  }
 },
 "nbformat": 4,
 "nbformat_minor": 5
}
