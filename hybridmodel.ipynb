{
 "cells": [
  {
   "cell_type": "code",
   "execution_count": 19,
   "id": "5eb3f529",
   "metadata": {},
   "outputs": [],
   "source": [
    "# Import the required libraries\n",
    "\n",
    "import pandas as pd\n",
    "import numpy as np\n",
    "\n",
    "# Build Classification Models\n",
    "from sklearn.metrics import accuracy_score\n",
    "from sklearn.metrics import f1_score\n",
    "\n",
    "from sklearn.ensemble import RandomForestClassifier\n",
    "from sklearn.linear_model import LogisticRegression\n",
    "from sklearn.naive_bayes import GaussianNB\n",
    "from sklearn.ensemble import VotingClassifier\n",
    "from sklearn.model_selection import train_test_split\n"
   ]
  },
  {
   "cell_type": "code",
   "execution_count": 14,
   "id": "822cedbf",
   "metadata": {},
   "outputs": [],
   "source": [
    "# Load the data\n",
    "data = pd.read_csv('^spx_d.csv')\n"
   ]
  },
  {
   "cell_type": "code",
   "execution_count": 16,
   "id": "254e3610",
   "metadata": {},
   "outputs": [],
   "source": [
    "# Split the data into training and testing sets\n",
    "train, test = train_test_split(data, test_size=0.2, random_state=42)\n",
    "\n"
   ]
  },
  {
   "cell_type": "code",
   "execution_count": 17,
   "id": "3bb29131",
   "metadata": {},
   "outputs": [
    {
     "data": {
      "text/plain": [
       "((6701, 8), (1676, 8))"
      ]
     },
     "execution_count": 17,
     "metadata": {},
     "output_type": "execute_result"
    }
   ],
   "source": [
    "# Show the structure of train and test variables\n",
    "train.shape, test.shape"
   ]
  },
  {
   "cell_type": "code",
   "execution_count": 29,
   "id": "c773044b",
   "metadata": {},
   "outputs": [
    {
     "name": "stdout",
     "output_type": "stream",
     "text": [
      "Model performance for Training set\n",
      "\n",
      "Training set accuracy: 0.7034770929711983\n",
      "Training set precision: 0.7204086718165961\n",
      "Training set F1-score: 0.7016173293316642\n",
      "\n",
      "-------------------------------------------------------------\n",
      "Model performance for Test set\n",
      "\n",
      "Test set accuracy: 0.5274463007159904\n",
      "Test set precision: 0.584720861900098\n",
      "Test set F1-score: 0.5244223762094629\n"
     ]
    }
   ],
   "source": [
    "# Import and train model\n",
    "from sklearn.model_selection import train_test_split\n",
    "from sklearn.neighbors import KNeighborsClassifier\n",
    "from sklearn.metrics import accuracy_score, precision_score, f1_score\n",
    "\n",
    "# Define model\n",
    "df = pd.read_csv('^spx_d.csv')\n",
    "knn = KNeighborsClassifier(n_neighbors=5)\n",
    "predictors = [\"Open\", \"High\", \"Low\", \"Close\"]\n",
    "knn.fit(train[predictors], train[\"Target\"])\n",
    "\n",
    "# Make Predictions\n",
    "train_preds = knn.predict(train[predictors])\n",
    "test_preds = knn.predict(test[predictors])\n",
    "\n",
    "# Training set performance\n",
    "knn_train_accuracy = accuracy_score(train[\"Target\"], train_preds)\n",
    "knn_train_precision = precision_score(train[\"Target\"], train_preds)\n",
    "knn_train_f1 = f1_score(train[\"Target\"], train_preds, average='weighted')\n",
    "\n",
    "# Test set Performance\n",
    "knn_test_accuracy = accuracy_score(test[\"Target\"], test_preds)\n",
    "knn_test_precision = precision_score(test[\"Target\"], test_preds)\n",
    "knn_test_f1 = f1_score(test[\"Target\"], test_preds, average='weighted')\n",
    "\n",
    "# Print the results\n",
    "print(\"Model performance for Training set\")\n",
    "print(\"\")\n",
    "print(\"Training set accuracy:\", knn_train_accuracy)\n",
    "print(\"Training set precision:\", knn_train_precision)\n",
    "print(\"Training set F1-score:\", knn_train_f1)\n",
    "print(\"\")\n",
    "print(\"-------------------------------------------------------------\")\n",
    "print(\"Model performance for Test set\")\n",
    "print(\"\")\n",
    "print(\"Test set accuracy:\", knn_test_accuracy)\n",
    "print(\"Test set precision:\", knn_test_precision)\n",
    "print(\"Test set F1-score:\", knn_test_f1)\n"
   ]
  },
  {
   "cell_type": "code",
   "execution_count": 33,
   "id": "1de84c95",
   "metadata": {},
   "outputs": [
    {
     "name": "stdout",
     "output_type": "stream",
     "text": [
      "Train accuracy: 0.5676764661990747\n",
      "Train precision: 0.5777115822673909\n",
      "Train F1 score: 0.5051890488351889\n",
      "\n",
      "-------------------------------------------------------------\n",
      "Model performance for Test set\n",
      "Test accuracy: 0.5501193317422435\n",
      "Test precision: 0.5636743215031316\n",
      "Test F1 score: 0.48249496844474615\n"
     ]
    }
   ],
   "source": [
    "# Import and train model\n",
    "\n",
    "from sklearn.model_selection import train_test_split\n",
    "from sklearn.svm import SVC\n",
    "from sklearn.metrics import accuracy_score, precision_score, f1_score\n",
    "import pandas as pd\n",
    "\n",
    "# Load data\n",
    "df = pd.read_csv('^spx_d.csv')\n",
    "\n",
    "# Define model\n",
    "svm = SVC(kernel='linear', C=1, random_state=0)\n",
    "\n",
    "# Split data into train and test sets\n",
    "train, test = train_test_split(df, test_size=0.2, random_state=0)\n",
    "\n",
    "# Define predictors and target variable\n",
    "predictors = [\"Open\", \"High\", \"Low\", \"Close\"]\n",
    "target = \"Target\"\n",
    "\n",
    "# Train the model\n",
    "svm.fit(train[predictors], train[target])\n",
    "\n",
    "# Make Predictions\n",
    "train_preds = svm.predict(train[predictors])\n",
    "test_preds = svm.predict(test[predictors])\n",
    "\n",
    "# Calculate performance metrics\n",
    "svm_train_acc = accuracy_score(train[target], train_preds)\n",
    "svm_train_prec = precision_score(train[target], train_preds)\n",
    "svm_train_f1 = f1_score(train[target], train_preds, average='weighted')\n",
    "svm_test_acc = accuracy_score(test[target], test_preds)\n",
    "svm_test_prec = precision_score(test[target], test_preds)\n",
    "svm_test_f1 = f1_score(test[target], test_preds, average='weighted')\n",
    "\n",
    "# Print the results\n",
    "print(\"Train accuracy:\", svm_train_acc)\n",
    "print(\"Train precision:\", svm_train_prec)\n",
    "print(\"Train F1 score:\", svm_train_f1)\n",
    "print(\"\")\n",
    "print(\"-------------------------------------------------------------\")\n",
    "print(\"Model performance for Test set\")\n",
    "print(\"Test accuracy:\", svm_test_acc)\n",
    "print(\"Test precision:\", svm_test_prec)\n",
    "print(\"Test F1 score:\", svm_test_f1)\n"
   ]
  },
  {
   "cell_type": "code",
   "execution_count": null,
   "id": "5e8fbcbf",
   "metadata": {},
   "outputs": [],
   "source": []
  },
  {
   "cell_type": "code",
   "execution_count": 34,
   "id": "3e2065fd",
   "metadata": {},
   "outputs": [
    {
     "name": "stdout",
     "output_type": "stream",
     "text": [
      "Train accuracy: 0.7257125802119087\n",
      "Train precision: 0.697844652297682\n",
      "Train F1 score: 0.7104948775068952\n",
      "\n",
      "-------------------------------------------------------------\n",
      "Model performance for Test set\n",
      "Test accuracy: 0.5381861575178998\n",
      "Test precision: 0.563721657544957\n",
      "Test F1 score: 0.5043065223622479\n"
     ]
    }
   ],
   "source": [
    "# Import and train model\n",
    "from sklearn.model_selection import train_test_split\n",
    "from sklearn.ensemble import RandomForestClassifier\n",
    "from sklearn.metrics import accuracy_score, precision_score, f1_score\n",
    "import pandas as pd\n",
    "\n",
    "# Load data\n",
    "df = pd.read_csv('^spx_d.csv')\n",
    "\n",
    "# Define model\n",
    "rfc = RandomForestClassifier(n_estimators=100, min_samples_split=100, random_state=1)\n",
    "\n",
    "# Split data into train and test sets\n",
    "train, test = train_test_split(df, test_size=0.2, random_state=0)\n",
    "\n",
    "# Define predictors and target variable\n",
    "predictors = [\"Open\", \"High\", \"Low\", \"Close\"]\n",
    "target = \"Target\"\n",
    "\n",
    "# Train the model\n",
    "rfc.fit(train[predictors], train[target])\n",
    "\n",
    "# Make Predictions\n",
    "train_preds = rfc.predict(train[predictors])\n",
    "test_preds = rfc.predict(test[predictors])\n",
    "\n",
    "# Calculate performance metrics\n",
    "rfc_train_acc = accuracy_score(train[target], train_preds)\n",
    "rfc_train_prec = precision_score(train[target], train_preds)\n",
    "rfc_train_f1 = f1_score(train[target], train_preds, average='weighted')\n",
    "rfc_test_acc = accuracy_score(test[target], test_preds)\n",
    "rfc_test_prec = precision_score(test[target], test_preds)\n",
    "rfc_test_f1 = f1_score(test[target], test_preds, average='weighted')\n",
    "\n",
    "# Print the results\n",
    "print(\"Train accuracy:\", rfc_train_acc)\n",
    "print(\"Train precision:\", rfc_train_prec)\n",
    "print(\"Train F1 score:\", rfc_train_f1)\n",
    "print(\"\")\n",
    "print(\"-------------------------------------------------------------\")\n",
    "print(\"Model performance for Test set\")\n",
    "print(\"Test accuracy:\", rfc_test_acc)\n",
    "print(\"Test precision:\", rfc_test_prec)\n",
    "print(\"Test F1 score:\", rfc_test_f1)\n",
    "\n",
    "\n",
    "\n"
   ]
  },
  {
   "cell_type": "code",
   "execution_count": 36,
   "id": "7ad6e357",
   "metadata": {},
   "outputs": [
    {
     "name": "stdout",
     "output_type": "stream",
     "text": [
      "Train accuracy: 0.5728995672287718\n",
      "Train precision: 0.5737128237927727\n",
      "Train F1 score: 0.46864862402136537\n",
      "\n",
      "-------------------------------------------------------------\n",
      "Model performance for Test set\n",
      "Test accuracy: 0.5507159904534606\n",
      "Test precision: 0.5586734693877551\n",
      "Test F1 score: 0.4399481442757875\n"
     ]
    }
   ],
   "source": [
    "from sklearn.model_selection import train_test_split\n",
    "from sklearn.tree import DecisionTreeClassifier\n",
    "from sklearn.metrics import accuracy_score, precision_score, f1_score\n",
    "import pandas as pd\n",
    "\n",
    "# Load data\n",
    "df = pd.read_csv('^spx_d.csv')\n",
    "\n",
    "# Define model\n",
    "dtc = DecisionTreeClassifier(max_depth=5, random_state=0)\n",
    "\n",
    "# Split data into train and test sets\n",
    "train, test = train_test_split(df, test_size=0.2, random_state=0)\n",
    "\n",
    "# Define predictors and target variable\n",
    "predictors = [\"Open\", \"High\", \"Low\", \"Close\"]\n",
    "target = \"Target\"\n",
    "\n",
    "# Train the model\n",
    "dtc.fit(train[predictors], train[target])\n",
    "\n",
    "# Make Predictions\n",
    "train_preds = dtc.predict(train[predictors])\n",
    "test_preds = dtc.predict(test[predictors])\n",
    "\n",
    "# Calculate performance metrics\n",
    "dtc_train_acc = accuracy_score(train[target], train_preds)\n",
    "dtc_train_prec = precision_score(train[target], train_preds)\n",
    "dtc_train_f1 = f1_score(train[target], train_preds, average='weighted')\n",
    "dtc_test_acc = accuracy_score(test[target], test_preds)\n",
    "dtc_test_prec = precision_score(test[target], test_preds)\n",
    "dtc_test_f1 = f1_score(test[target], test_preds, average='weighted')\n",
    "\n",
    "# Print the results\n",
    "print(\"Train accuracy:\", dtc_train_acc)\n",
    "print(\"Train precision:\", dtc_train_prec)\n",
    "print(\"Train F1 score:\", dtc_train_f1)\n",
    "print(\"\")\n",
    "print(\"-------------------------------------------------------------\")\n",
    "print(\"Model performance for Test set\")\n",
    "print(\"Test accuracy:\", dtc_test_acc)\n",
    "print(\"Test precision:\", dtc_test_prec)\n",
    "print(\"Test F1 score:\", dtc_test_f1)\n"
   ]
  },
  {
   "cell_type": "code",
   "execution_count": null,
   "id": "7c816553",
   "metadata": {},
   "outputs": [],
   "source": []
  }
 ],
 "metadata": {
  "kernelspec": {
   "display_name": "Python 3 (ipykernel)",
   "language": "python",
   "name": "python3"
  },
  "language_info": {
   "codemirror_mode": {
    "name": "ipython",
    "version": 3
   },
   "file_extension": ".py",
   "mimetype": "text/x-python",
   "name": "python",
   "nbconvert_exporter": "python",
   "pygments_lexer": "ipython3",
   "version": "3.8.10"
  }
 },
 "nbformat": 4,
 "nbformat_minor": 5
}
